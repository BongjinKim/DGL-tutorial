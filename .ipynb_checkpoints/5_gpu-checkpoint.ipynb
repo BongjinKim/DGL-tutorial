{
 "cells": [
  {
   "cell_type": "markdown",
   "metadata": {},
   "source": [
    "# GPU를 사용해 학습 가속하기\n",
    "\n",
    "이번 튜토리얼에서, 다음을 배우게 됩니다.\n",
    "\n",
    "* 그래프와 피처 데이터를 GPU로 복사하는 방법\n",
    "* GNN 모델을 GPU 위에 학습하는 방법\n"
   ]
  },
  {
   "cell_type": "code",
   "execution_count": 1,
   "metadata": {},
   "outputs": [
    {
     "name": "stderr",
     "output_type": "stream",
     "text": [
      "Using backend: pytorch\n"
     ]
    }
   ],
   "source": [
    "import dgl\n",
    "import torch\n",
    "import torch.nn as nn\n",
    "import torch.nn.functional as F\n",
    "import itertools"
   ]
  },
  {
   "cell_type": "markdown",
   "metadata": {},
   "source": [
    "## 그래프와 피처 데이터를 GPU에 복사\n",
    "\n",
    "먼저 이전 세션에 사용한 Zachery의 카라테 클럽 그래프와 노드 라벨를 로드합니다."
   ]
  },
  {
   "cell_type": "code",
   "execution_count": 2,
   "metadata": {},
   "outputs": [
    {
     "name": "stdout",
     "output_type": "stream",
     "text": [
      "Graph(num_nodes=34, num_edges=156,\n",
      "      ndata_schemes={'club': Scheme(shape=(), dtype=torch.int64), 'club_onehot': Scheme(shape=(2,), dtype=torch.int64)}\n",
      "      edata_schemes={})\n"
     ]
    }
   ],
   "source": [
    "from tutorial_utils import load_zachery\n",
    "\n",
    "# ----------- 0. load graph -------------- #\n",
    "g = load_zachery()\n",
    "print(g)"
   ]
  },
  {
   "cell_type": "markdown",
   "metadata": {},
   "source": [
    "이제 그래프와 모든 그래프의 피처 데이터는 CPU에 적재되어 있습니다. `to` API를 사용해 다른 연산장치로 복사해 보세요."
   ]
  },
  {
   "cell_type": "code",
   "execution_count": 3,
   "metadata": {},
   "outputs": [
    {
     "name": "stdout",
     "output_type": "stream",
     "text": [
      "Current device: cpu\n",
      "New device: cuda:0\n"
     ]
    }
   ],
   "source": [
    "print('Current device:', g.device)\n",
    "g = g.to('cuda:0')\n",
    "print('New device:', g.device)"
   ]
  },
  {
   "cell_type": "markdown",
   "metadata": {},
   "source": [
    "Verify that features are also copied to GPU."
   ]
  },
  {
   "cell_type": "code",
   "execution_count": 4,
   "metadata": {},
   "outputs": [
    {
     "name": "stdout",
     "output_type": "stream",
     "text": [
      "cuda:0\n",
      "cuda:0\n"
     ]
    }
   ],
   "source": [
    "print(g.ndata['club'].device)\n",
    "print(g.ndata['club_onehot'].device)"
   ]
  },
  {
   "cell_type": "markdown",
   "metadata": {},
   "source": [
    "## GNN 모델을 GPU에 생성하기\n",
    "\n",
    "이 스텝은 CNN이나 RNN 모델을 GPU에 생성하는 것과 같습니다.  \n",
    "PyTorch에서, `to` API를 사용해 이를 수행할 수 있습니다."
   ]
  },
  {
   "cell_type": "code",
   "execution_count": 5,
   "metadata": {},
   "outputs": [
    {
     "data": {
      "text/plain": [
       "Parameter containing:\n",
       "tensor([[ 0.0659,  0.1788, -0.0616,  0.0894, -0.1473],\n",
       "        [ 0.2425,  0.3802, -0.2967, -0.0730,  0.2306],\n",
       "        [-0.3285, -0.2899,  0.0662,  0.1382,  0.3446],\n",
       "        [ 0.1179,  0.1255, -0.3277, -0.3812, -0.0264],\n",
       "        [ 0.0029,  0.1509,  0.2376,  0.3642,  0.2892],\n",
       "        [-0.2212, -0.3464, -0.1195, -0.1454,  0.3659],\n",
       "        [-0.0863, -0.1229, -0.1433, -0.0430,  0.3139],\n",
       "        [ 0.1539, -0.3182, -0.3844,  0.1100, -0.2872],\n",
       "        [ 0.2275, -0.3469,  0.1722, -0.0914,  0.3297],\n",
       "        [ 0.0642,  0.1706,  0.0161,  0.2040, -0.0392],\n",
       "        [ 0.1629, -0.0567,  0.1448, -0.2780, -0.1775],\n",
       "        [-0.2396, -0.2870, -0.2637,  0.3677, -0.1193],\n",
       "        [-0.3539,  0.2635,  0.2194, -0.2880,  0.3534],\n",
       "        [-0.2514, -0.0761,  0.3619, -0.1641,  0.3680],\n",
       "        [ 0.2218, -0.1201, -0.2275, -0.2262,  0.2463],\n",
       "        [ 0.1939,  0.1299, -0.0589, -0.0242, -0.2427],\n",
       "        [-0.0955,  0.2803, -0.2754, -0.3576, -0.1648],\n",
       "        [ 0.3461, -0.0706, -0.0978, -0.2841,  0.2296],\n",
       "        [-0.3562,  0.3051,  0.2179, -0.0070, -0.0902],\n",
       "        [ 0.2752,  0.0856, -0.2564,  0.1597,  0.0057],\n",
       "        [ 0.2960, -0.0030, -0.2467,  0.3164, -0.2789],\n",
       "        [ 0.2462,  0.1179,  0.3635,  0.0791,  0.2306],\n",
       "        [-0.3737, -0.2431,  0.0223,  0.1301, -0.3059],\n",
       "        [ 0.0235,  0.1066, -0.3821,  0.3873, -0.1446],\n",
       "        [ 0.1908,  0.1292, -0.2283, -0.1005, -0.2433],\n",
       "        [ 0.0082, -0.3486,  0.0046, -0.2481,  0.2789],\n",
       "        [-0.2754, -0.1269, -0.3749, -0.1465,  0.2685],\n",
       "        [ 0.0389, -0.0112, -0.3058,  0.1895, -0.0238],\n",
       "        [-0.0431,  0.3579, -0.3556,  0.2732,  0.0887],\n",
       "        [-0.2557,  0.0689,  0.0626,  0.2880, -0.3857],\n",
       "        [ 0.3428, -0.1637,  0.0850, -0.3823, -0.0292],\n",
       "        [-0.1358, -0.1000, -0.3777, -0.1732,  0.0458],\n",
       "        [-0.3200, -0.2265, -0.2953, -0.0491, -0.2268],\n",
       "        [-0.2236,  0.3468,  0.0889,  0.1347, -0.0295]], device='cuda:0',\n",
       "       requires_grad=True)"
      ]
     },
     "execution_count": 5,
     "metadata": {},
     "output_type": "execute_result"
    }
   ],
   "source": [
    "# ----------- 1. node features -------------- #\n",
    "node_embed = nn.Embedding(g.number_of_nodes(), 5)  # 각 노드는 5차원의 임베딩을 가지고 있습니다.\n",
    "# Copy node embeddings to GPU\n",
    "node_embed = node_embed.to('cuda:0')\n",
    "inputs = node_embed.weight                         # 노드 피처로써 이 임베딩 가중치를 사용합니다.\n",
    "nn.init.xavier_uniform_(inputs)"
   ]
  },
  {
   "cell_type": "markdown",
   "metadata": {},
   "source": [
    "커뮤니티의 라벨은 `'club'`이라는 노드 피처에 저장되어 있습니다. (0은 instructor의 커뮤니티, 1은 club president의 커뮤니티).  \n",
    "오로지 0과 33번 노드에만 라벨링 되어 있습니다."
   ]
  },
  {
   "cell_type": "code",
   "execution_count": 6,
   "metadata": {},
   "outputs": [
    {
     "name": "stdout",
     "output_type": "stream",
     "text": [
      "Labels tensor([0, 1], device='cuda:0')\n"
     ]
    }
   ],
   "source": [
    "labels = g.ndata['club']\n",
    "labeled_nodes = [0, 33]\n",
    "print('Labels', labels[labeled_nodes])"
   ]
  },
  {
   "cell_type": "markdown",
   "metadata": {},
   "source": [
    "## GraphSAGE 모델 정의하기\n",
    "\n",
    "우리의 모델은 2개 레이어로 구성되어 있는데, 각각 새로운 노드 표현(representation)을 이웃의 정보를 통합함으로써 계산합니다.  \n",
    "수식은 다음과 같습니다.  \n",
    "\n",
    "\n",
    "$$\n",
    "h_{\\mathcal{N}(v)}^k\\leftarrow \\text{AGGREGATE}_k\\{h_u^{k-1},\\forall u\\in\\mathcal{N}(v)\\}\n",
    "$$\n",
    "\n",
    "$$\n",
    "h_v^k\\leftarrow \\sigma\\left(W^k\\cdot \\text{CONCAT}(h_v^{k-1}, h_{\\mathcal{N}(v)}^k) \\right)\n",
    "$$\n",
    "\n",
    "DGL은 많은 유명한 이웃 통합(neighbor aggregation) 모듈의 구현체를 제공합니다. 모두 쉽게 한 줄의 코드로 호출하여 사용할 수 있습니다.  \n",
    "지원되는 모델의 전체 리스트는 [graph convolution modules](https://docs.dgl.ai/api/python/nn.pytorch.html#module-dgl.nn.pytorch.conv)에서 보실 수 있습니다."
   ]
  },
  {
   "cell_type": "code",
   "execution_count": 7,
   "metadata": {},
   "outputs": [],
   "source": [
    "from dgl.nn import SAGEConv\n",
    "\n",
    "# ----------- 2. create model -------------- #\n",
    "# 2개의 레이어를 가진 GraphSAGE 모델 구축\n",
    "class GraphSAGE(nn.Module):\n",
    "    def __init__(self, in_feats, h_feats, num_classes):\n",
    "        super(GraphSAGE, self).__init__()\n",
    "        self.conv1 = SAGEConv(in_feats, h_feats, 'mean')\n",
    "        self.conv2 = SAGEConv(h_feats, num_classes, 'mean')\n",
    "    \n",
    "    def forward(self, g, in_feat):\n",
    "        h = self.conv1(g, in_feat)\n",
    "        h = F.relu(h)\n",
    "        h = self.conv2(g, h)\n",
    "        return h\n",
    "    \n",
    "# 주어진 차원의 모델 생성\n",
    "# 인풋 레이어 차원: 5, 노드 임베딩\n",
    "# 히든 레이어 차원: 16\n",
    "# 아웃풋 레이어 차원: 2, 클래스가 2개 있기 때문, 0과 1\n",
    "\n",
    "net = GraphSAGE(5, 16, 2)"
   ]
  },
  {
   "cell_type": "markdown",
   "metadata": {},
   "source": [
    "네트워크를 GPU에 복사함"
   ]
  },
  {
   "cell_type": "code",
   "execution_count": 8,
   "metadata": {},
   "outputs": [],
   "source": [
    "net = net.to('cuda:0')"
   ]
  },
  {
   "cell_type": "code",
   "execution_count": 9,
   "metadata": {},
   "outputs": [
    {
     "name": "stdout",
     "output_type": "stream",
     "text": [
      "In epoch 0, loss: 0.9240975975990295\n",
      "In epoch 5, loss: 0.5181047916412354\n",
      "In epoch 10, loss: 0.304397314786911\n",
      "In epoch 15, loss: 0.13399985432624817\n",
      "In epoch 20, loss: 0.04457314684987068\n",
      "In epoch 25, loss: 0.014434721320867538\n",
      "In epoch 30, loss: 0.0052262600511312485\n",
      "In epoch 35, loss: 0.0022846641950309277\n",
      "In epoch 40, loss: 0.0012244133977219462\n",
      "In epoch 45, loss: 0.0007775976555421948\n",
      "In epoch 50, loss: 0.0005630452651530504\n",
      "In epoch 55, loss: 0.0004472314612939954\n",
      "In epoch 60, loss: 0.00037835637340322137\n",
      "In epoch 65, loss: 0.00033366846037097275\n",
      "In epoch 70, loss: 0.00030238580075092614\n",
      "In epoch 75, loss: 0.0002790275029838085\n",
      "In epoch 80, loss: 0.0002605550398584455\n",
      "In epoch 85, loss: 0.00024500221479684114\n",
      "In epoch 90, loss: 0.00023159440024755895\n",
      "In epoch 95, loss: 0.00021961663151159883\n"
     ]
    }
   ],
   "source": [
    "# ----------- 3. set up loss and optimizer -------------- #\n",
    "# 이 경우, 학습 루프의 손실\n",
    "\n",
    "optimizer = torch.optim.Adam(itertools.chain(net.parameters(), node_embed.parameters()), lr=0.01)\n",
    "\n",
    "# ----------- 4. training -------------------------------- #\n",
    "all_logits = []\n",
    "for e in range(100):\n",
    "    # forward\n",
    "    logits = net(g, inputs)\n",
    "    \n",
    "    # 손실 계산\n",
    "    logp = F.log_softmax(logits, 1)\n",
    "    loss = F.nll_loss(logp[labeled_nodes], labels[labeled_nodes])\n",
    "    \n",
    "    # backward\n",
    "    optimizer.zero_grad()\n",
    "    loss.backward()\n",
    "    optimizer.step()\n",
    "    all_logits.append(logits.detach())\n",
    "    \n",
    "    if e % 5 == 0:\n",
    "        print('In epoch {}, loss: {}'.format(e, loss))"
   ]
  },
  {
   "cell_type": "code",
   "execution_count": 10,
   "metadata": {},
   "outputs": [
    {
     "name": "stdout",
     "output_type": "stream",
     "text": [
      "Accuracy 0.8529411764705882\n"
     ]
    }
   ],
   "source": [
    "# ----------- 5. check results ------------------------ #\n",
    "pred = torch.argmax(logits, axis=1)\n",
    "print('Accuracy', (pred == labels).sum().item() / len(pred))"
   ]
  },
  {
   "cell_type": "markdown",
   "metadata": {},
   "source": [
    "**한 GPU 메모리에 그래프와 피처 데이터를 적재할 수 없으면 어떻게 하나요?** \n",
    "\n",
    "* GNN을 천제 그래프에 대해 수행하는 대신에, 몇몇 subgraph에 대해 수행해 수렴시켜보세요.\n",
    "* 다른 샘플을 다른 GPU에 올림으로써 더 빠른 가속을 경험해 보세요.\n",
    "* 그래프를 여러 머신에 분할하여 분산된 형태로 학습시켜보세요.\n",
    "\n",
    "추후에 이러한 방법론을 각각 살펴볼 예정입니다."
   ]
  }
 ],
 "metadata": {
  "kernelspec": {
   "display_name": "Python 3",
   "language": "python",
   "name": "python3"
  },
  "language_info": {
   "codemirror_mode": {
    "name": "ipython",
    "version": 3
   },
   "file_extension": ".py",
   "mimetype": "text/x-python",
   "name": "python",
   "nbconvert_exporter": "python",
   "pygments_lexer": "ipython3",
   "version": "3.8.3"
  }
 },
 "nbformat": 4,
 "nbformat_minor": 4
}
